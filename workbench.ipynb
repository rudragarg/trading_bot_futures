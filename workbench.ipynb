{
 "cells": [
  {
   "cell_type": "code",
   "execution_count": null,
   "source": [
    "import math\r\n",
    "import matplotlib.pyplot as plt\r\n",
    "import keras\r\n",
    "import pandas as pd\r\n",
    "import numpy as np\r\n",
    "from keras.models import Sequential\r\n",
    "from keras.layers import Dense\r\n",
    "from keras.layers import LSTM\r\n",
    "from keras.layers import Dropout\r\n",
    "from keras.layers import *\r\n",
    "from sklearn.preprocessing import MinMaxScaler\r\n",
    "from sklearn.metrics import mean_squared_error\r\n",
    "from sklearn.metrics import mean_absolute_error\r\n",
    "from sklearn.model_selection import train_test_split\r\n",
    "from keras.callbacks import EarlyStopping\r\n",
    "\r\n",
    "import yfinance as yf\r\n",
    "\r\n",
    "\r\n",
    "df= yf.download(\"TSLA\", period=\"7d\", interval = \"1m\")\r\n",
    "\r\n",
    "train_size = int(df.shape[0]*.8)\r\n",
    "\r\n",
    "# print((df.index))\r\n",
    "# exit(0)\r\n",
    "\r\n",
    "training_set = df.iloc[:train_size, 3:4].values\r\n",
    "test_set = df.iloc[train_size:, 3:4].values\r\n",
    "\r\n",
    "#print(training_set)\r\n",
    "\r\n",
    "sc = MinMaxScaler(feature_range = (0, 1))\r\n",
    "training_set_scaled = sc.fit_transform(training_set)\r\n",
    "\r\n",
    "def reshape_data(data):\r\n",
    "    X = []\r\n",
    "    y = []\r\n",
    "    for i in range(60, data.shape[0]):\r\n",
    "        X.append(training_set_scaled[i-60:i, 0])\r\n",
    "        y.append(training_set_scaled[i, 0])\r\n",
    "    X, y = np.array(X), np.array(y)\r\n",
    "    X = np.reshape(X, (X.shape[0], X.shape[1], 1))\r\n",
    "    return X, y\r\n",
    "\r\n",
    "X_train, y_train = reshape_data(training_set)\r\n",
    "X_test, y_test = reshape_data(test_set)\r\n",
    "\r\n",
    "\r\n",
    "model = Sequential()\r\n",
    "#Adding the first LSTM layer and some Dropout regularisation\r\n",
    "model.add(LSTM(units = 50, return_sequences = True, input_shape = (X_train.shape[1], 1)))\r\n",
    "model.add(Dropout(0.2))\r\n",
    "# Adding a second LSTM layer and some Dropout regularisation\r\n",
    "model.add(LSTM(units = 50, return_sequences = True))\r\n",
    "model.add(Dropout(0.2))\r\n",
    "# Adding a third LSTM layer and some Dropout regularisation\r\n",
    "model.add(LSTM(units = 50, return_sequences = True))\r\n",
    "model.add(Dropout(0.2))\r\n",
    "# Adding a fourth LSTM layer and some Dropout regularisation\r\n",
    "model.add(LSTM(units = 50))\r\n",
    "model.add(Dropout(0.2))\r\n",
    "# Adding the output layer\r\n",
    "model.add(Dense(units = 1))\r\n",
    "\r\n",
    "# Compiling the RNN\r\n",
    "model.compile(optimizer = 'adam', loss = 'mean_squared_error')\r\n",
    "\r\n",
    "# Fitting the RNN to the Training set\r\n",
    "model.fit(X_train, y_train, epochs = 100, batch_size = 32, validation_data=(X_test, y_test))\r\n",
    "\r\n",
    "predicted_stock_price = model.predict(X_test)\r\n",
    "predicted_stock_price = sc.inverse_transform(predicted_stock_price)\r\n"
   ],
   "outputs": [
    {
     "output_type": "error",
     "ename": "Error",
     "evalue": "Session cannot generate requests",
     "traceback": [
      "Error: Session cannot generate requests",
      "at w.executeCodeCell (c:\\Users\\rudra\\.vscode\\extensions\\ms-toolsai.jupyter-2021.8.1236758218\\out\\client\\extension.js:90:327199)",
      "at w.execute (c:\\Users\\rudra\\.vscode\\extensions\\ms-toolsai.jupyter-2021.8.1236758218\\out\\client\\extension.js:90:326520)",
      "at w.start (c:\\Users\\rudra\\.vscode\\extensions\\ms-toolsai.jupyter-2021.8.1236758218\\out\\client\\extension.js:90:322336)",
      "at processTicksAndRejections (internal/process/task_queues.js:93:5)",
      "at async t.CellExecutionQueue.executeQueuedCells (c:\\Users\\rudra\\.vscode\\extensions\\ms-toolsai.jupyter-2021.8.1236758218\\out\\client\\extension.js:90:336863)",
      "at async t.CellExecutionQueue.start (c:\\Users\\rudra\\.vscode\\extensions\\ms-toolsai.jupyter-2021.8.1236758218\\out\\client\\extension.js:90:336403)"
     ]
    }
   ],
   "metadata": {}
  },
  {
   "cell_type": "code",
   "execution_count": null,
   "source": [],
   "outputs": [],
   "metadata": {}
  }
 ],
 "metadata": {
  "orig_nbformat": 4,
  "language_info": {
   "name": "python",
   "version": "3.7.6",
   "mimetype": "text/x-python",
   "codemirror_mode": {
    "name": "ipython",
    "version": 3
   },
   "pygments_lexer": "ipython3",
   "nbconvert_exporter": "python",
   "file_extension": ".py"
  },
  "kernelspec": {
   "name": "python3",
   "display_name": "Python 3.7.6 64-bit ('base': conda)"
  },
  "interpreter": {
   "hash": "64444d065e0769d6cad3d7e49e95b26475484a957c8d7a96f3c4bb6d664eb5c8"
  }
 },
 "nbformat": 4,
 "nbformat_minor": 2
}